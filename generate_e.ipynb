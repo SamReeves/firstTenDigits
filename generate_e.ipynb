{
 "cells": [
  {
   "cell_type": "code",
   "execution_count": null,
   "metadata": {},
   "outputs": [],
   "source": [
    "# Neat memoizing tool for generating e\n",
    "\n",
    "from functools import wraps\n",
    "\n",
    "# cache recursive calculations to save cpu cycles\n",
    "\n",
    "def memoize(f):\n",
    "    cache = {}\n",
    "    @wraps(f)\n",
    "    def func(*args):\n",
    "        if args not in cache:\n",
    "            cache[args] = f(*args)\n",
    "        return cache[args]\n",
    "    return func\n",
    "\n",
    "@memoize\n",
    "def factorial(n):\n",
    "    # recursively calculate factorial with decorator\n",
    "    if n <= 1:\n",
    "        return 1\n",
    "    return n * factorial(n - 1)\n",
    "\n",
    "def inverse_factorial(start_n=0):\n",
    "    # generating the infinite 1/n!\n",
    "    numerator = 1.0\n",
    "    denominator = start_n\n",
    "    while True:\n",
    "        yield numerator / factorial(denominator)\n",
    "        denominator += 1\n",
    "\n",
    "def approximate_e(steps=None, tolerance=None):\n",
    "    # sum up 1/n!\n",
    "    if steps is None and tolerance is None:\n",
    "        raise ValueError(\"Input either steps or tolerance.\")\n",
    "    series = inverse_factorial()\n",
    "    if steps is not None: # stepwise mode\n",
    "        return sum(next(series) for _ in range(steps))\n",
    "    output = 0 # tolerance mode\n",
    "    term = next(series)\n",
    "    while abs(term) > tolerance:\n",
    "        output += term\n",
    "        term = next(series)\n",
    "    return output\n",
    "\n",
    "if __name__ == \"__main__\":\n",
    "    stepwise = approximate_e(steps=150)\n",
    "    print(\"Stepwise:\\t{0:.20f}.\".format(stepwise))\n",
    "    tolerated = approximate_e(tolerance=0.00000000000000001)\n",
    "    print(\"Tolerated:\\t{0:.20f}.\".format(tolerated))"
   ]
  }
 ],
 "metadata": {
  "kernelspec": {
   "display_name": "Python 3",
   "language": "python",
   "name": "python3"
  },
  "language_info": {
   "codemirror_mode": {
    "name": "ipython",
    "version": 3
   },
   "file_extension": ".py",
   "mimetype": "text/x-python",
   "name": "python",
   "nbconvert_exporter": "python",
   "pygments_lexer": "ipython3",
   "version": "3.6.9"
  }
 },
 "nbformat": 4,
 "nbformat_minor": 2
}
